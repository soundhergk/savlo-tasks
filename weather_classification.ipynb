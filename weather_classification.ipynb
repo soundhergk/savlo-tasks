{
 "cells": [
  {
   "cell_type": "markdown",
   "id": "1129e5fb-a139-4c66-9559-3c89afbbc445",
   "metadata": {},
   "source": [
    "## Importing the Dataset"
   ]
  },
  {
   "cell_type": "code",
   "execution_count": 1,
   "id": "72e8dc9e-158a-4b8b-ab35-ae361734d7f6",
   "metadata": {},
   "outputs": [],
   "source": [
    "import pandas as pd"
   ]
  },
  {
   "cell_type": "code",
   "execution_count": 2,
   "id": "cc46eefb-e3ce-4df9-a909-98539c4a87eb",
   "metadata": {},
   "outputs": [],
   "source": [
    "df = pd.read_csv(\"weather_classification_data.csv\")"
   ]
  },
  {
   "cell_type": "code",
   "execution_count": 3,
   "id": "f0e75029-5274-42c5-9f36-fd394c0f418b",
   "metadata": {},
   "outputs": [
    {
     "data": {
      "text/html": [
       "<div>\n",
       "<style scoped>\n",
       "    .dataframe tbody tr th:only-of-type {\n",
       "        vertical-align: middle;\n",
       "    }\n",
       "\n",
       "    .dataframe tbody tr th {\n",
       "        vertical-align: top;\n",
       "    }\n",
       "\n",
       "    .dataframe thead th {\n",
       "        text-align: right;\n",
       "    }\n",
       "</style>\n",
       "<table border=\"1\" class=\"dataframe\">\n",
       "  <thead>\n",
       "    <tr style=\"text-align: right;\">\n",
       "      <th></th>\n",
       "      <th>Temperature</th>\n",
       "      <th>Humidity</th>\n",
       "      <th>Wind Speed</th>\n",
       "      <th>Precipitation (%)</th>\n",
       "      <th>Cloud Cover</th>\n",
       "      <th>Atmospheric Pressure</th>\n",
       "      <th>UV Index</th>\n",
       "      <th>Season</th>\n",
       "      <th>Visibility (km)</th>\n",
       "      <th>Location</th>\n",
       "      <th>Weather Type</th>\n",
       "    </tr>\n",
       "  </thead>\n",
       "  <tbody>\n",
       "    <tr>\n",
       "      <th>0</th>\n",
       "      <td>14.0</td>\n",
       "      <td>73</td>\n",
       "      <td>9.5</td>\n",
       "      <td>82.0</td>\n",
       "      <td>partly cloudy</td>\n",
       "      <td>1010.82</td>\n",
       "      <td>2</td>\n",
       "      <td>Winter</td>\n",
       "      <td>3.5</td>\n",
       "      <td>inland</td>\n",
       "      <td>Rainy</td>\n",
       "    </tr>\n",
       "    <tr>\n",
       "      <th>1</th>\n",
       "      <td>39.0</td>\n",
       "      <td>96</td>\n",
       "      <td>8.5</td>\n",
       "      <td>71.0</td>\n",
       "      <td>partly cloudy</td>\n",
       "      <td>1011.43</td>\n",
       "      <td>7</td>\n",
       "      <td>Spring</td>\n",
       "      <td>10.0</td>\n",
       "      <td>inland</td>\n",
       "      <td>Cloudy</td>\n",
       "    </tr>\n",
       "    <tr>\n",
       "      <th>2</th>\n",
       "      <td>30.0</td>\n",
       "      <td>64</td>\n",
       "      <td>7.0</td>\n",
       "      <td>16.0</td>\n",
       "      <td>clear</td>\n",
       "      <td>1018.72</td>\n",
       "      <td>5</td>\n",
       "      <td>Spring</td>\n",
       "      <td>5.5</td>\n",
       "      <td>mountain</td>\n",
       "      <td>Sunny</td>\n",
       "    </tr>\n",
       "    <tr>\n",
       "      <th>3</th>\n",
       "      <td>38.0</td>\n",
       "      <td>83</td>\n",
       "      <td>1.5</td>\n",
       "      <td>82.0</td>\n",
       "      <td>clear</td>\n",
       "      <td>1026.25</td>\n",
       "      <td>7</td>\n",
       "      <td>Spring</td>\n",
       "      <td>1.0</td>\n",
       "      <td>coastal</td>\n",
       "      <td>Sunny</td>\n",
       "    </tr>\n",
       "    <tr>\n",
       "      <th>4</th>\n",
       "      <td>27.0</td>\n",
       "      <td>74</td>\n",
       "      <td>17.0</td>\n",
       "      <td>66.0</td>\n",
       "      <td>overcast</td>\n",
       "      <td>990.67</td>\n",
       "      <td>1</td>\n",
       "      <td>Winter</td>\n",
       "      <td>2.5</td>\n",
       "      <td>mountain</td>\n",
       "      <td>Rainy</td>\n",
       "    </tr>\n",
       "  </tbody>\n",
       "</table>\n",
       "</div>"
      ],
      "text/plain": [
       "   Temperature  Humidity  Wind Speed  Precipitation (%)    Cloud Cover  \\\n",
       "0         14.0        73         9.5               82.0  partly cloudy   \n",
       "1         39.0        96         8.5               71.0  partly cloudy   \n",
       "2         30.0        64         7.0               16.0          clear   \n",
       "3         38.0        83         1.5               82.0          clear   \n",
       "4         27.0        74        17.0               66.0       overcast   \n",
       "\n",
       "   Atmospheric Pressure  UV Index  Season  Visibility (km)  Location  \\\n",
       "0               1010.82         2  Winter              3.5    inland   \n",
       "1               1011.43         7  Spring             10.0    inland   \n",
       "2               1018.72         5  Spring              5.5  mountain   \n",
       "3               1026.25         7  Spring              1.0   coastal   \n",
       "4                990.67         1  Winter              2.5  mountain   \n",
       "\n",
       "  Weather Type  \n",
       "0        Rainy  \n",
       "1       Cloudy  \n",
       "2        Sunny  \n",
       "3        Sunny  \n",
       "4        Rainy  "
      ]
     },
     "execution_count": 3,
     "metadata": {},
     "output_type": "execute_result"
    }
   ],
   "source": [
    "df.head()"
   ]
  },
  {
   "cell_type": "code",
   "execution_count": 4,
   "id": "89c4b54f-9390-42ed-bdf2-6dc7a35b5444",
   "metadata": {},
   "outputs": [
    {
     "name": "stdout",
     "output_type": "stream",
     "text": [
      "<class 'pandas.core.frame.DataFrame'>\n",
      "RangeIndex: 13200 entries, 0 to 13199\n",
      "Data columns (total 11 columns):\n",
      " #   Column                Non-Null Count  Dtype  \n",
      "---  ------                --------------  -----  \n",
      " 0   Temperature           13200 non-null  float64\n",
      " 1   Humidity              13200 non-null  int64  \n",
      " 2   Wind Speed            13200 non-null  float64\n",
      " 3   Precipitation (%)     13200 non-null  float64\n",
      " 4   Cloud Cover           13200 non-null  object \n",
      " 5   Atmospheric Pressure  13200 non-null  float64\n",
      " 6   UV Index              13200 non-null  int64  \n",
      " 7   Season                13200 non-null  object \n",
      " 8   Visibility (km)       13200 non-null  float64\n",
      " 9   Location              13200 non-null  object \n",
      " 10  Weather Type          13200 non-null  object \n",
      "dtypes: float64(5), int64(2), object(4)\n",
      "memory usage: 1.1+ MB\n"
     ]
    }
   ],
   "source": [
    "df.info() # no missing values"
   ]
  },
  {
   "cell_type": "markdown",
   "id": "08f01b39-d4e2-4991-993e-cf6fdb8fc60d",
   "metadata": {},
   "source": [
    "## Encoding categorical columns and Scaling the dataset"
   ]
  },
  {
   "cell_type": "code",
   "execution_count": 5,
   "id": "cdd8d309-eb32-4b22-a0bd-6ebb3ceb1219",
   "metadata": {},
   "outputs": [],
   "source": [
    "from sklearn.preprocessing import LabelEncoder, StandardScaler"
   ]
  },
  {
   "cell_type": "code",
   "execution_count": 6,
   "id": "098e5d13-6da2-4145-96e0-af9c3bc7e24a",
   "metadata": {},
   "outputs": [],
   "source": [
    "le_cloud_cover = LabelEncoder()\n",
    "le_season = LabelEncoder()\n",
    "le_location = LabelEncoder()\n",
    "le_weather_type = LabelEncoder()\n",
    "\n",
    "df['Cloud Cover'] = le_cloud_cover.fit_transform(df['Cloud Cover'])\n",
    "df['Season'] = le_season.fit_transform(df['Season'])\n",
    "df['Location'] = le_location.fit_transform(df['Location'])\n",
    "df['Weather Type'] = le_weather_type.fit_transform(df['Weather Type'])\n",
    "\n",
    "X = df.drop('Weather Type', axis=1)\n",
    "y = df['Weather Type']\n",
    "\n",
    "scaler = StandardScaler()\n",
    "X_scaled = scaler.fit_transform(X)"
   ]
  },
  {
   "cell_type": "markdown",
   "id": "962aff9c-9555-437c-b452-006d8bf4d980",
   "metadata": {},
   "source": [
    "## Building and Training the ANN"
   ]
  },
  {
   "cell_type": "code",
   "execution_count": 7,
   "id": "f15f88cb-0c79-498b-b4ae-40c22ea58139",
   "metadata": {},
   "outputs": [
    {
     "name": "stdout",
     "output_type": "stream",
     "text": [
      "WARNING:tensorflow:From C:\\Users\\sound\\anaconda3\\Lib\\site-packages\\keras\\src\\losses.py:2976: The name tf.losses.sparse_softmax_cross_entropy is deprecated. Please use tf.compat.v1.losses.sparse_softmax_cross_entropy instead.\n",
      "\n"
     ]
    }
   ],
   "source": [
    "from sklearn.model_selection import train_test_split\n",
    "from tensorflow.keras.models import Sequential\n",
    "from tensorflow.keras.layers import Dense\n",
    "from tensorflow.keras.utils import to_categorical"
   ]
  },
  {
   "cell_type": "code",
   "execution_count": 8,
   "id": "af29b5c2-2841-4ad2-8bf3-15391add7a25",
   "metadata": {},
   "outputs": [],
   "source": [
    "X_train, X_test, y_train, y_test = train_test_split(X_scaled, y, test_size=0.3)"
   ]
  },
  {
   "cell_type": "code",
   "execution_count": 9,
   "id": "8e4a7681-664d-49d0-8507-99195247c9be",
   "metadata": {},
   "outputs": [],
   "source": [
    "y_train_categorical = to_categorical(y_train)\n",
    "y_test_categorical = to_categorical(y_test)"
   ]
  },
  {
   "cell_type": "code",
   "execution_count": 10,
   "id": "e7d641e8-86df-498d-9d39-5386f0bb3d64",
   "metadata": {},
   "outputs": [
    {
     "name": "stdout",
     "output_type": "stream",
     "text": [
      "WARNING:tensorflow:From C:\\Users\\sound\\anaconda3\\Lib\\site-packages\\keras\\src\\backend.py:873: The name tf.get_default_graph is deprecated. Please use tf.compat.v1.get_default_graph instead.\n",
      "\n"
     ]
    }
   ],
   "source": [
    "model = Sequential()\n",
    "model.add(Dense(64, input_dim = X_train.shape[1], activation ='relu'))\n",
    "model.add(Dense(32, activation = 'relu'))\n",
    "model.add(Dense(16, activation = 'relu'))\n",
    "model.add(Dense(y_train_categorical.shape[1], activation= 'softmax'))"
   ]
  },
  {
   "cell_type": "code",
   "execution_count": 11,
   "id": "83b546f5-500f-4d68-824e-199b633a70ae",
   "metadata": {},
   "outputs": [
    {
     "name": "stdout",
     "output_type": "stream",
     "text": [
      "WARNING:tensorflow:From C:\\Users\\sound\\anaconda3\\Lib\\site-packages\\keras\\src\\optimizers\\__init__.py:309: The name tf.train.Optimizer is deprecated. Please use tf.compat.v1.train.Optimizer instead.\n",
      "\n"
     ]
    }
   ],
   "source": [
    "model.compile(optimizer='adam', loss='categorical_crossentropy', metrics=['accuracy'])"
   ]
  },
  {
   "cell_type": "code",
   "execution_count": 12,
   "id": "e8946111-01bc-4225-963b-bea61a4fc42f",
   "metadata": {},
   "outputs": [
    {
     "name": "stdout",
     "output_type": "stream",
     "text": [
      "Epoch 1/50\n",
      "WARNING:tensorflow:From C:\\Users\\sound\\anaconda3\\Lib\\site-packages\\keras\\src\\utils\\tf_utils.py:492: The name tf.ragged.RaggedTensorValue is deprecated. Please use tf.compat.v1.ragged.RaggedTensorValue instead.\n",
      "\n",
      "WARNING:tensorflow:From C:\\Users\\sound\\anaconda3\\Lib\\site-packages\\keras\\src\\engine\\base_layer_utils.py:384: The name tf.executing_eagerly_outside_functions is deprecated. Please use tf.compat.v1.executing_eagerly_outside_functions instead.\n",
      "\n",
      "231/231 [==============================] - 3s 6ms/step - loss: 0.6494 - accuracy: 0.7984 - val_loss: 0.4056 - val_accuracy: 0.8680\n",
      "Epoch 2/50\n",
      "231/231 [==============================] - 1s 5ms/step - loss: 0.3381 - accuracy: 0.8887 - val_loss: 0.3317 - val_accuracy: 0.8842\n",
      "Epoch 3/50\n",
      "231/231 [==============================] - 1s 4ms/step - loss: 0.2839 - accuracy: 0.8994 - val_loss: 0.3046 - val_accuracy: 0.8902\n",
      "Epoch 4/50\n",
      "231/231 [==============================] - 1s 4ms/step - loss: 0.2557 - accuracy: 0.9044 - val_loss: 0.2833 - val_accuracy: 0.8929\n",
      "Epoch 5/50\n",
      "231/231 [==============================] - 1s 4ms/step - loss: 0.2369 - accuracy: 0.9115 - val_loss: 0.2641 - val_accuracy: 0.8961\n",
      "Epoch 6/50\n",
      "231/231 [==============================] - 1s 4ms/step - loss: 0.2246 - accuracy: 0.9100 - val_loss: 0.2544 - val_accuracy: 0.8972\n",
      "Epoch 7/50\n",
      "231/231 [==============================] - 1s 5ms/step - loss: 0.2128 - accuracy: 0.9149 - val_loss: 0.2480 - val_accuracy: 0.8994\n",
      "Epoch 8/50\n",
      "231/231 [==============================] - 1s 4ms/step - loss: 0.2057 - accuracy: 0.9177 - val_loss: 0.2509 - val_accuracy: 0.8939\n",
      "Epoch 9/50\n",
      "231/231 [==============================] - 1s 4ms/step - loss: 0.2002 - accuracy: 0.9194 - val_loss: 0.2420 - val_accuracy: 0.8999\n",
      "Epoch 10/50\n",
      "231/231 [==============================] - 1s 4ms/step - loss: 0.1945 - accuracy: 0.9188 - val_loss: 0.2446 - val_accuracy: 0.8994\n",
      "Epoch 11/50\n",
      "231/231 [==============================] - 1s 4ms/step - loss: 0.1891 - accuracy: 0.9196 - val_loss: 0.2289 - val_accuracy: 0.9042\n",
      "Epoch 12/50\n",
      "231/231 [==============================] - 1s 4ms/step - loss: 0.1847 - accuracy: 0.9222 - val_loss: 0.2279 - val_accuracy: 0.8994\n",
      "Epoch 13/50\n",
      "231/231 [==============================] - 1s 5ms/step - loss: 0.1810 - accuracy: 0.9217 - val_loss: 0.2327 - val_accuracy: 0.9010\n",
      "Epoch 14/50\n",
      "231/231 [==============================] - 1s 4ms/step - loss: 0.1776 - accuracy: 0.9263 - val_loss: 0.2426 - val_accuracy: 0.8983\n",
      "Epoch 15/50\n",
      "231/231 [==============================] - 1s 4ms/step - loss: 0.1730 - accuracy: 0.9288 - val_loss: 0.2348 - val_accuracy: 0.8950\n",
      "Epoch 16/50\n",
      "231/231 [==============================] - 1s 4ms/step - loss: 0.1700 - accuracy: 0.9267 - val_loss: 0.2288 - val_accuracy: 0.8994\n",
      "Epoch 17/50\n",
      "231/231 [==============================] - 1s 5ms/step - loss: 0.1679 - accuracy: 0.9290 - val_loss: 0.2284 - val_accuracy: 0.8956\n",
      "Epoch 18/50\n",
      "231/231 [==============================] - 1s 4ms/step - loss: 0.1634 - accuracy: 0.9325 - val_loss: 0.2348 - val_accuracy: 0.8961\n",
      "Epoch 19/50\n",
      "231/231 [==============================] - 1s 4ms/step - loss: 0.1624 - accuracy: 0.9320 - val_loss: 0.2289 - val_accuracy: 0.8988\n",
      "Epoch 20/50\n",
      "231/231 [==============================] - 1s 4ms/step - loss: 0.1611 - accuracy: 0.9315 - val_loss: 0.2300 - val_accuracy: 0.9015\n",
      "Epoch 21/50\n",
      "231/231 [==============================] - 1s 4ms/step - loss: 0.1578 - accuracy: 0.9329 - val_loss: 0.2287 - val_accuracy: 0.9004\n",
      "Epoch 22/50\n",
      "231/231 [==============================] - 1s 4ms/step - loss: 0.1549 - accuracy: 0.9363 - val_loss: 0.2304 - val_accuracy: 0.9026\n",
      "Epoch 23/50\n",
      "231/231 [==============================] - 1s 4ms/step - loss: 0.1534 - accuracy: 0.9351 - val_loss: 0.2401 - val_accuracy: 0.9037\n",
      "Epoch 24/50\n",
      "231/231 [==============================] - 1s 4ms/step - loss: 0.1517 - accuracy: 0.9361 - val_loss: 0.2335 - val_accuracy: 0.9015\n",
      "Epoch 25/50\n",
      "231/231 [==============================] - 1s 4ms/step - loss: 0.1486 - accuracy: 0.9363 - val_loss: 0.2335 - val_accuracy: 0.9026\n",
      "Epoch 26/50\n",
      "231/231 [==============================] - 1s 4ms/step - loss: 0.1469 - accuracy: 0.9379 - val_loss: 0.2441 - val_accuracy: 0.8966\n",
      "Epoch 27/50\n",
      "231/231 [==============================] - 1s 4ms/step - loss: 0.1454 - accuracy: 0.9382 - val_loss: 0.2499 - val_accuracy: 0.8994\n",
      "Epoch 28/50\n",
      "231/231 [==============================] - 1s 5ms/step - loss: 0.1440 - accuracy: 0.9401 - val_loss: 0.2483 - val_accuracy: 0.8994\n",
      "Epoch 29/50\n",
      "231/231 [==============================] - 1s 4ms/step - loss: 0.1424 - accuracy: 0.9410 - val_loss: 0.2361 - val_accuracy: 0.8972\n",
      "Epoch 30/50\n",
      "231/231 [==============================] - 1s 4ms/step - loss: 0.1380 - accuracy: 0.9445 - val_loss: 0.2443 - val_accuracy: 0.9004\n",
      "Epoch 31/50\n",
      "231/231 [==============================] - 1s 4ms/step - loss: 0.1396 - accuracy: 0.9420 - val_loss: 0.2438 - val_accuracy: 0.9021\n",
      "Epoch 32/50\n",
      "231/231 [==============================] - 1s 4ms/step - loss: 0.1348 - accuracy: 0.9451 - val_loss: 0.2438 - val_accuracy: 0.9026\n",
      "Epoch 33/50\n",
      "231/231 [==============================] - 1s 4ms/step - loss: 0.1332 - accuracy: 0.9471 - val_loss: 0.2549 - val_accuracy: 0.8983\n",
      "Epoch 34/50\n",
      "231/231 [==============================] - 1s 4ms/step - loss: 0.1337 - accuracy: 0.9443 - val_loss: 0.2437 - val_accuracy: 0.8972\n",
      "Epoch 35/50\n",
      "231/231 [==============================] - 1s 4ms/step - loss: 0.1289 - accuracy: 0.9460 - val_loss: 0.2501 - val_accuracy: 0.9004\n",
      "Epoch 36/50\n",
      "231/231 [==============================] - 1s 4ms/step - loss: 0.1291 - accuracy: 0.9475 - val_loss: 0.2600 - val_accuracy: 0.9010\n",
      "Epoch 37/50\n",
      "231/231 [==============================] - 1s 4ms/step - loss: 0.1276 - accuracy: 0.9470 - val_loss: 0.2638 - val_accuracy: 0.8977\n",
      "Epoch 38/50\n",
      "231/231 [==============================] - 1s 4ms/step - loss: 0.1252 - accuracy: 0.9482 - val_loss: 0.2592 - val_accuracy: 0.8977\n",
      "Epoch 39/50\n",
      "231/231 [==============================] - 1s 4ms/step - loss: 0.1244 - accuracy: 0.9490 - val_loss: 0.2599 - val_accuracy: 0.8923\n",
      "Epoch 40/50\n",
      "231/231 [==============================] - 1s 4ms/step - loss: 0.1230 - accuracy: 0.9506 - val_loss: 0.2586 - val_accuracy: 0.8988\n",
      "Epoch 41/50\n",
      "231/231 [==============================] - 1s 5ms/step - loss: 0.1188 - accuracy: 0.9529 - val_loss: 0.2681 - val_accuracy: 0.9015\n",
      "Epoch 42/50\n",
      "231/231 [==============================] - 1s 4ms/step - loss: 0.1172 - accuracy: 0.9529 - val_loss: 0.2801 - val_accuracy: 0.8896\n",
      "Epoch 43/50\n",
      "231/231 [==============================] - 1s 4ms/step - loss: 0.1173 - accuracy: 0.9516 - val_loss: 0.2733 - val_accuracy: 0.9010\n",
      "Epoch 44/50\n",
      "231/231 [==============================] - 1s 4ms/step - loss: 0.1126 - accuracy: 0.9552 - val_loss: 0.2685 - val_accuracy: 0.9015\n",
      "Epoch 45/50\n",
      "231/231 [==============================] - 1s 4ms/step - loss: 0.1130 - accuracy: 0.9541 - val_loss: 0.2793 - val_accuracy: 0.8977\n",
      "Epoch 46/50\n",
      "231/231 [==============================] - 1s 4ms/step - loss: 0.1094 - accuracy: 0.9558 - val_loss: 0.2883 - val_accuracy: 0.8988\n",
      "Epoch 47/50\n",
      "231/231 [==============================] - 1s 4ms/step - loss: 0.1092 - accuracy: 0.9554 - val_loss: 0.2950 - val_accuracy: 0.9004\n",
      "Epoch 48/50\n",
      "231/231 [==============================] - 1s 4ms/step - loss: 0.1058 - accuracy: 0.9587 - val_loss: 0.2911 - val_accuracy: 0.8983\n",
      "Epoch 49/50\n",
      "231/231 [==============================] - 1s 4ms/step - loss: 0.1044 - accuracy: 0.9570 - val_loss: 0.2844 - val_accuracy: 0.8972\n",
      "Epoch 50/50\n",
      "231/231 [==============================] - 1s 4ms/step - loss: 0.1056 - accuracy: 0.9597 - val_loss: 0.2898 - val_accuracy: 0.8918\n"
     ]
    },
    {
     "data": {
      "text/plain": [
       "<keras.src.callbacks.History at 0x2078a885990>"
      ]
     },
     "execution_count": 12,
     "metadata": {},
     "output_type": "execute_result"
    }
   ],
   "source": [
    "model.fit(X_train, y_train_categorical, epochs=50, batch_size=32, validation_split=0.2)"
   ]
  },
  {
   "cell_type": "markdown",
   "id": "0bce3192-7220-4367-b3ab-e5dd5a773807",
   "metadata": {},
   "source": [
    "## Moldel Evaluation and Confusion Matrix"
   ]
  },
  {
   "cell_type": "code",
   "execution_count": 13,
   "id": "5f2ee73c-b683-451f-9847-7eb8ff9cbb54",
   "metadata": {},
   "outputs": [
    {
     "name": "stdout",
     "output_type": "stream",
     "text": [
      "124/124 [==============================] - 0s 3ms/step - loss: 0.2733 - accuracy: 0.9114\n"
     ]
    },
    {
     "data": {
      "text/plain": [
       "[0.27328038215637207, 0.9113636612892151]"
      ]
     },
     "execution_count": 13,
     "metadata": {},
     "output_type": "execute_result"
    }
   ],
   "source": [
    "model.evaluate(X_test, y_test_categorical)"
   ]
  },
  {
   "cell_type": "code",
   "execution_count": 14,
   "id": "5dff0c14-79f2-4b6a-8207-2b952dfedfbf",
   "metadata": {},
   "outputs": [],
   "source": [
    "import numpy as np\n",
    "import matplotlib.pyplot as plt\n",
    "import seaborn as sns\n",
    "from sklearn.metrics import confusion_matrix"
   ]
  },
  {
   "cell_type": "code",
   "execution_count": 15,
   "id": "3bf954c6-9532-4c0e-aa23-e5dcd459c6ee",
   "metadata": {},
   "outputs": [
    {
     "name": "stdout",
     "output_type": "stream",
     "text": [
      "124/124 [==============================] - 1s 3ms/step\n"
     ]
    },
    {
     "data": {
      "image/png": "[encoded data removed]",
      "text/plain": [
       "<Figure size 1000x700 with 2 Axes>"
      ]
     },
     "metadata": {},
     "output_type": "display_data"
    }
   ],
   "source": [
    "y_pred = model.predict(X_test)\n",
    "y_pred_classes = np.argmax(y_pred, axis=1)\n",
    "y_true = np.argmax(y_test_categorical, axis=1)\n",
    "\n",
    "cm = confusion_matrix(y_true, y_pred_classes)\n",
    "plt.figure(figsize=(10, 7))\n",
    "sns.heatmap(cm, annot=True, fmt='d')\n",
    "plt.title('Confusion Matrix')\n",
    "plt.xlabel('Predicted Label')\n",
    "plt.ylabel('True Label')\n",
    "plt.show()"
   ]
  },
  {
   "cell_type": "code",
   "execution_count": null,
   "id": "6ea56b12-5934-486c-be6a-7889b8c1cefe",
   "metadata": {},
   "outputs": [],
   "source": []
  }
 ],
 "metadata": {
  "kernelspec": {
   "display_name": "Python 3 (ipykernel)",
   "language": "python",
   "name": "python3"
  },
  "language_info": {
   "codemirror_mode": {
    "name": "ipython",
    "version": 3
   },
   "file_extension": ".py",
   "mimetype": "text/x-python",
   "name": "python",
   "nbconvert_exporter": "python",
   "pygments_lexer": "ipython3",
   "version": "3.11.5"
  }
 },
 "nbformat": 4,
 "nbformat_minor": 5
}
